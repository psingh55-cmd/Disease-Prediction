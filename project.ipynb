{
  "nbformat": 4,
  "nbformat_minor": 0,
  "metadata": {
    "colab": {
      "name": "project",
      "provenance": [],
      "collapsed_sections": []
    },
    "kernelspec": {
      "name": "python3",
      "display_name": "Python 3"
    },
    "language_info": {
      "name": "python"
    }
  },
  "cells": [
    {
      "cell_type": "code",
      "metadata": {
        "id": "ktFGUDkg4hca"
      },
      "source": [
        ""
      ],
      "execution_count": null,
      "outputs": []
    },
    {
      "cell_type": "code",
      "metadata": {
        "id": "3ZXvJEf040zj"
      },
      "source": [
        "import pandas as pd\n",
        "import numpy as np\n",
        "import matplotlib.pyplot as plt\n",
        "from sklearn.model_selection import train_test_split\n",
        "from sklearn.svm import SVC\n",
        "from sklearn.metrics import f1_score, accuracy_score, confusion_matrix\n",
        "import seaborn as sns\n",
        "from tkinter import *\n",
        "from tkinter import messagebox\n",
        "import sys \n",
        "import urllib\n",
        "import urllib.request"
      ],
      "execution_count": 2,
      "outputs": []
    },
    {
      "cell_type": "markdown",
      "metadata": {
        "id": "_Lukc2mT5TRr"
      },
      "source": [
        "Importing the dataset"
      ]
    },
    {
      "cell_type": "code",
      "metadata": {
        "id": "5G0VxjAC5T28"
      },
      "source": [
        "df = pd.read_csv('/dataset (1).csv')\n",
        "print(df.head())\n",
        "#df.describe()\n",
        "df1 = pd.read_csv('/Symptom-severity (1).csv')\n",
        "print(df1.head())"
      ],
      "execution_count": null,
      "outputs": []
    },
    {
      "cell_type": "markdown",
      "metadata": {
        "id": "gMmL4NwT5iIO"
      },
      "source": [
        "Cleaning of Data"
      ]
    },
    {
      "cell_type": "code",
      "metadata": {
        "colab": {
          "base_uri": "https://localhost:8080/",
          "height": 307
        },
        "id": "Inub5TmV5dhW",
        "outputId": "b4ad33fd-3f39-4ea6-e58f-65ab443f8a26"
      },
      "source": [
        "df.isna().sum()\n",
        "df.isnull().sum()\n",
        "\n",
        "cols = df.columns\n",
        "data = df[cols].values.flatten()\n",
        "\n",
        "s = pd.Series(data)\n",
        "s = s.str.strip()\n",
        "s = s.values.reshape(df.shape)\n",
        "\n",
        "df = pd.DataFrame(s, columns=df.columns)\n",
        "\n",
        "df = df.fillna(0)\n",
        "df.head()"
      ],
      "execution_count": 4,
      "outputs": [
        {
          "output_type": "execute_result",
          "data": {
            "text/html": [
              "<div>\n",
              "<style scoped>\n",
              "    .dataframe tbody tr th:only-of-type {\n",
              "        vertical-align: middle;\n",
              "    }\n",
              "\n",
              "    .dataframe tbody tr th {\n",
              "        vertical-align: top;\n",
              "    }\n",
              "\n",
              "    .dataframe thead th {\n",
              "        text-align: right;\n",
              "    }\n",
              "</style>\n",
              "<table border=\"1\" class=\"dataframe\">\n",
              "  <thead>\n",
              "    <tr style=\"text-align: right;\">\n",
              "      <th></th>\n",
              "      <th>Disease</th>\n",
              "      <th>Symptom_1</th>\n",
              "      <th>Symptom_2</th>\n",
              "      <th>Symptom_3</th>\n",
              "      <th>Symptom_4</th>\n",
              "      <th>Symptom_5</th>\n",
              "      <th>Symptom_6</th>\n",
              "      <th>Symptom_7</th>\n",
              "      <th>Symptom_8</th>\n",
              "      <th>Symptom_9</th>\n",
              "      <th>Symptom_10</th>\n",
              "      <th>Symptom_11</th>\n",
              "      <th>Symptom_12</th>\n",
              "      <th>Symptom_13</th>\n",
              "      <th>Symptom_14</th>\n",
              "      <th>Symptom_15</th>\n",
              "      <th>Symptom_16</th>\n",
              "      <th>Symptom_17</th>\n",
              "    </tr>\n",
              "  </thead>\n",
              "  <tbody>\n",
              "    <tr>\n",
              "      <th>0</th>\n",
              "      <td>Fungal infection</td>\n",
              "      <td>itching</td>\n",
              "      <td>skin_rash</td>\n",
              "      <td>nodal_skin_eruptions</td>\n",
              "      <td>dischromic _patches</td>\n",
              "      <td>0</td>\n",
              "      <td>0</td>\n",
              "      <td>0</td>\n",
              "      <td>0</td>\n",
              "      <td>0</td>\n",
              "      <td>0</td>\n",
              "      <td>0</td>\n",
              "      <td>0</td>\n",
              "      <td>0</td>\n",
              "      <td>0</td>\n",
              "      <td>0</td>\n",
              "      <td>0</td>\n",
              "      <td>0</td>\n",
              "    </tr>\n",
              "    <tr>\n",
              "      <th>1</th>\n",
              "      <td>Fungal infection</td>\n",
              "      <td>skin_rash</td>\n",
              "      <td>nodal_skin_eruptions</td>\n",
              "      <td>dischromic _patches</td>\n",
              "      <td>0</td>\n",
              "      <td>0</td>\n",
              "      <td>0</td>\n",
              "      <td>0</td>\n",
              "      <td>0</td>\n",
              "      <td>0</td>\n",
              "      <td>0</td>\n",
              "      <td>0</td>\n",
              "      <td>0</td>\n",
              "      <td>0</td>\n",
              "      <td>0</td>\n",
              "      <td>0</td>\n",
              "      <td>0</td>\n",
              "      <td>0</td>\n",
              "    </tr>\n",
              "    <tr>\n",
              "      <th>2</th>\n",
              "      <td>Fungal infection</td>\n",
              "      <td>itching</td>\n",
              "      <td>nodal_skin_eruptions</td>\n",
              "      <td>dischromic _patches</td>\n",
              "      <td>0</td>\n",
              "      <td>0</td>\n",
              "      <td>0</td>\n",
              "      <td>0</td>\n",
              "      <td>0</td>\n",
              "      <td>0</td>\n",
              "      <td>0</td>\n",
              "      <td>0</td>\n",
              "      <td>0</td>\n",
              "      <td>0</td>\n",
              "      <td>0</td>\n",
              "      <td>0</td>\n",
              "      <td>0</td>\n",
              "      <td>0</td>\n",
              "    </tr>\n",
              "    <tr>\n",
              "      <th>3</th>\n",
              "      <td>Fungal infection</td>\n",
              "      <td>itching</td>\n",
              "      <td>skin_rash</td>\n",
              "      <td>dischromic _patches</td>\n",
              "      <td>0</td>\n",
              "      <td>0</td>\n",
              "      <td>0</td>\n",
              "      <td>0</td>\n",
              "      <td>0</td>\n",
              "      <td>0</td>\n",
              "      <td>0</td>\n",
              "      <td>0</td>\n",
              "      <td>0</td>\n",
              "      <td>0</td>\n",
              "      <td>0</td>\n",
              "      <td>0</td>\n",
              "      <td>0</td>\n",
              "      <td>0</td>\n",
              "    </tr>\n",
              "    <tr>\n",
              "      <th>4</th>\n",
              "      <td>Fungal infection</td>\n",
              "      <td>itching</td>\n",
              "      <td>skin_rash</td>\n",
              "      <td>nodal_skin_eruptions</td>\n",
              "      <td>0</td>\n",
              "      <td>0</td>\n",
              "      <td>0</td>\n",
              "      <td>0</td>\n",
              "      <td>0</td>\n",
              "      <td>0</td>\n",
              "      <td>0</td>\n",
              "      <td>0</td>\n",
              "      <td>0</td>\n",
              "      <td>0</td>\n",
              "      <td>0</td>\n",
              "      <td>0</td>\n",
              "      <td>0</td>\n",
              "      <td>0</td>\n",
              "    </tr>\n",
              "  </tbody>\n",
              "</table>\n",
              "</div>"
            ],
            "text/plain": [
              "            Disease  Symptom_1  ... Symptom_16 Symptom_17\n",
              "0  Fungal infection    itching  ...          0          0\n",
              "1  Fungal infection  skin_rash  ...          0          0\n",
              "2  Fungal infection    itching  ...          0          0\n",
              "3  Fungal infection    itching  ...          0          0\n",
              "4  Fungal infection    itching  ...          0          0\n",
              "\n",
              "[5 rows x 18 columns]"
            ]
          },
          "metadata": {},
          "execution_count": 4
        }
      ]
    },
    {
      "cell_type": "code",
      "metadata": {
        "id": "IlS4oPbN5lAw"
      },
      "source": [
        ""
      ],
      "execution_count": null,
      "outputs": []
    },
    {
      "cell_type": "markdown",
      "metadata": {
        "id": "qU431VD55psr"
      },
      "source": [
        "Encoding the the symptoms with their severity weight"
      ]
    },
    {
      "cell_type": "code",
      "metadata": {
        "colab": {
          "base_uri": "https://localhost:8080/",
          "height": 307
        },
        "id": "FAKwIhBP5qJp",
        "outputId": "c74212db-42a9-47b2-a93a-5ef85825d2ef"
      },
      "source": [
        "vals = df.values\n",
        "symptoms = df1['Symptom'].unique()\n",
        "\n",
        "for i in range(len(symptoms)):\n",
        "    vals[vals == symptoms[i]] = df1[df1['Symptom'] == symptoms[i]]['weight'].values[0]\n",
        "    \n",
        "d = pd.DataFrame(vals, columns=cols)\n",
        "\n",
        "d = d.replace('dischromic _patches', 0)\n",
        "d = d.replace('spotting_ urination',0)\n",
        "df = d.replace('foul_smell_of urine',0)\n",
        "df.head()"
      ],
      "execution_count": 5,
      "outputs": [
        {
          "output_type": "execute_result",
          "data": {
            "text/html": [
              "<div>\n",
              "<style scoped>\n",
              "    .dataframe tbody tr th:only-of-type {\n",
              "        vertical-align: middle;\n",
              "    }\n",
              "\n",
              "    .dataframe tbody tr th {\n",
              "        vertical-align: top;\n",
              "    }\n",
              "\n",
              "    .dataframe thead th {\n",
              "        text-align: right;\n",
              "    }\n",
              "</style>\n",
              "<table border=\"1\" class=\"dataframe\">\n",
              "  <thead>\n",
              "    <tr style=\"text-align: right;\">\n",
              "      <th></th>\n",
              "      <th>Disease</th>\n",
              "      <th>Symptom_1</th>\n",
              "      <th>Symptom_2</th>\n",
              "      <th>Symptom_3</th>\n",
              "      <th>Symptom_4</th>\n",
              "      <th>Symptom_5</th>\n",
              "      <th>Symptom_6</th>\n",
              "      <th>Symptom_7</th>\n",
              "      <th>Symptom_8</th>\n",
              "      <th>Symptom_9</th>\n",
              "      <th>Symptom_10</th>\n",
              "      <th>Symptom_11</th>\n",
              "      <th>Symptom_12</th>\n",
              "      <th>Symptom_13</th>\n",
              "      <th>Symptom_14</th>\n",
              "      <th>Symptom_15</th>\n",
              "      <th>Symptom_16</th>\n",
              "      <th>Symptom_17</th>\n",
              "    </tr>\n",
              "  </thead>\n",
              "  <tbody>\n",
              "    <tr>\n",
              "      <th>0</th>\n",
              "      <td>Fungal infection</td>\n",
              "      <td>1</td>\n",
              "      <td>3</td>\n",
              "      <td>4</td>\n",
              "      <td>0</td>\n",
              "      <td>0</td>\n",
              "      <td>0</td>\n",
              "      <td>0</td>\n",
              "      <td>0</td>\n",
              "      <td>0</td>\n",
              "      <td>0</td>\n",
              "      <td>0</td>\n",
              "      <td>0</td>\n",
              "      <td>0</td>\n",
              "      <td>0</td>\n",
              "      <td>0</td>\n",
              "      <td>0</td>\n",
              "      <td>0</td>\n",
              "    </tr>\n",
              "    <tr>\n",
              "      <th>1</th>\n",
              "      <td>Fungal infection</td>\n",
              "      <td>3</td>\n",
              "      <td>4</td>\n",
              "      <td>0</td>\n",
              "      <td>0</td>\n",
              "      <td>0</td>\n",
              "      <td>0</td>\n",
              "      <td>0</td>\n",
              "      <td>0</td>\n",
              "      <td>0</td>\n",
              "      <td>0</td>\n",
              "      <td>0</td>\n",
              "      <td>0</td>\n",
              "      <td>0</td>\n",
              "      <td>0</td>\n",
              "      <td>0</td>\n",
              "      <td>0</td>\n",
              "      <td>0</td>\n",
              "    </tr>\n",
              "    <tr>\n",
              "      <th>2</th>\n",
              "      <td>Fungal infection</td>\n",
              "      <td>1</td>\n",
              "      <td>4</td>\n",
              "      <td>0</td>\n",
              "      <td>0</td>\n",
              "      <td>0</td>\n",
              "      <td>0</td>\n",
              "      <td>0</td>\n",
              "      <td>0</td>\n",
              "      <td>0</td>\n",
              "      <td>0</td>\n",
              "      <td>0</td>\n",
              "      <td>0</td>\n",
              "      <td>0</td>\n",
              "      <td>0</td>\n",
              "      <td>0</td>\n",
              "      <td>0</td>\n",
              "      <td>0</td>\n",
              "    </tr>\n",
              "    <tr>\n",
              "      <th>3</th>\n",
              "      <td>Fungal infection</td>\n",
              "      <td>1</td>\n",
              "      <td>3</td>\n",
              "      <td>0</td>\n",
              "      <td>0</td>\n",
              "      <td>0</td>\n",
              "      <td>0</td>\n",
              "      <td>0</td>\n",
              "      <td>0</td>\n",
              "      <td>0</td>\n",
              "      <td>0</td>\n",
              "      <td>0</td>\n",
              "      <td>0</td>\n",
              "      <td>0</td>\n",
              "      <td>0</td>\n",
              "      <td>0</td>\n",
              "      <td>0</td>\n",
              "      <td>0</td>\n",
              "    </tr>\n",
              "    <tr>\n",
              "      <th>4</th>\n",
              "      <td>Fungal infection</td>\n",
              "      <td>1</td>\n",
              "      <td>3</td>\n",
              "      <td>4</td>\n",
              "      <td>0</td>\n",
              "      <td>0</td>\n",
              "      <td>0</td>\n",
              "      <td>0</td>\n",
              "      <td>0</td>\n",
              "      <td>0</td>\n",
              "      <td>0</td>\n",
              "      <td>0</td>\n",
              "      <td>0</td>\n",
              "      <td>0</td>\n",
              "      <td>0</td>\n",
              "      <td>0</td>\n",
              "      <td>0</td>\n",
              "      <td>0</td>\n",
              "    </tr>\n",
              "  </tbody>\n",
              "</table>\n",
              "</div>"
            ],
            "text/plain": [
              "            Disease  Symptom_1  Symptom_2  ...  Symptom_15  Symptom_16  Symptom_17\n",
              "0  Fungal infection          1          3  ...           0           0           0\n",
              "1  Fungal infection          3          4  ...           0           0           0\n",
              "2  Fungal infection          1          4  ...           0           0           0\n",
              "3  Fungal infection          1          3  ...           0           0           0\n",
              "4  Fungal infection          1          3  ...           0           0           0\n",
              "\n",
              "[5 rows x 18 columns]"
            ]
          },
          "metadata": {},
          "execution_count": 5
        }
      ]
    },
    {
      "cell_type": "code",
      "metadata": {
        "id": "UNSVM-VQ5sp7"
      },
      "source": [
        ""
      ],
      "execution_count": null,
      "outputs": []
    },
    {
      "cell_type": "markdown",
      "metadata": {
        "id": "VKv_PVbR5waB"
      },
      "source": [
        "Storing the diseases and encoded symptoms in seperate dataframes"
      ]
    },
    {
      "cell_type": "code",
      "metadata": {
        "id": "DG1hUEXV5wzc"
      },
      "source": [
        "(df[cols] == 0).all()\n",
        "\n",
        "df['Disease'].value_counts()\n",
        "\n",
        "df['Disease'].unique()\n",
        "\n",
        "data = df.iloc[:,1:].values\n",
        "labels = df['Disease'].values"
      ],
      "execution_count": 6,
      "outputs": []
    },
    {
      "cell_type": "markdown",
      "metadata": {
        "id": "g7dRtc5W52zJ"
      },
      "source": [
        "Splitting the data and training the model"
      ]
    },
    {
      "cell_type": "code",
      "metadata": {
        "colab": {
          "base_uri": "https://localhost:8080/"
        },
        "id": "bDEmOIhV50Gl",
        "outputId": "94ec060c-de4a-43c0-f53c-ef0d049956be"
      },
      "source": [
        "x_train, x_test, y_train, y_test = train_test_split(data, labels, shuffle=True, train_size = 0.85)\n",
        "print(x_train.shape, x_test.shape, y_train.shape, y_test.shape)\n",
        "\n",
        "model = SVC()\n",
        "model.fit(x_train, y_train)\n",
        "\n",
        "preds = model.predict(x_test)\n",
        "print(preds)"
      ],
      "execution_count": 7,
      "outputs": [
        {
          "output_type": "stream",
          "name": "stdout",
          "text": [
            "(4182, 17) (738, 17) (4182,) (738,)\n",
            "['Gastroenteritis' 'Drug Reaction' 'AIDS' 'Peptic ulcer diseae' 'AIDS'\n",
            " 'Psoriasis' 'Diabetes' 'Dimorphic hemmorhoids(piles)' 'Allergy'\n",
            " 'hepatitis A' 'Dengue' 'Hepatitis E' 'hepatitis A' 'Peptic ulcer diseae'\n",
            " 'Dengue' 'Chronic cholestasis' 'Tuberculosis' 'Bronchial Asthma'\n",
            " 'Arthritis' 'Common Cold' 'Impetigo' 'Hypothyroidism' 'Osteoarthristis'\n",
            " 'Gastroenteritis' 'Common Cold' 'GERD' 'Migraine' 'Psoriasis'\n",
            " 'Hypothyroidism' '(vertigo) Paroymsal  Positional Vertigo' 'Psoriasis'\n",
            " 'Hyperthyroidism' 'Urinary tract infection'\n",
            " 'Dimorphic hemmorhoids(piles)' 'Malaria' 'Hypothyroidism'\n",
            " 'Paralysis (brain hemorrhage)' 'Tuberculosis' 'Cervical spondylosis'\n",
            " 'Hypertension' 'Alcoholic hepatitis' 'Hypothyroidism' 'Hepatitis E'\n",
            " 'Hepatitis C' 'Gastroenteritis' 'Arthritis' 'Fungal infection' 'Impetigo'\n",
            " 'Dengue' 'Chicken pox' 'Hypertension' 'Psoriasis'\n",
            " '(vertigo) Paroymsal  Positional Vertigo' 'Bronchial Asthma' 'Allergy'\n",
            " 'Fungal infection' 'Psoriasis' 'Diabetes' 'AIDS' 'Hypertension'\n",
            " 'Cervical spondylosis' 'Paralysis (brain hemorrhage)' 'Gastroenteritis'\n",
            " 'Hypertension' 'Hepatitis B' 'Hypertension' 'Allergy' 'Hepatitis D'\n",
            " 'Gastroenteritis' 'Alcoholic hepatitis' 'Psoriasis' 'Osteoarthristis'\n",
            " 'Hepatitis E' 'Hypoglycemia' 'Peptic ulcer diseae' 'Tuberculosis'\n",
            " 'Allergy' 'Malaria' 'Typhoid' 'Hypertension' 'Gastroenteritis' 'Acne'\n",
            " 'Bronchial Asthma' 'Hypothyroidism' 'Osteoarthristis' 'Drug Reaction'\n",
            " 'Malaria' 'Psoriasis' 'Chronic cholestasis' 'Urinary tract infection'\n",
            " 'Hypoglycemia' 'Peptic ulcer diseae' 'Chicken pox' 'Hepatitis C'\n",
            " 'Hypertension' 'Chronic cholestasis' 'Varicose veins' 'Gastroenteritis'\n",
            " 'Hyperthyroidism' 'Varicose veins' 'Cervical spondylosis' 'Hypertension'\n",
            " 'GERD' 'Fungal infection' 'Gastroenteritis' 'Chronic cholestasis'\n",
            " 'Jaundice' '(vertigo) Paroymsal  Positional Vertigo' 'Hypothyroidism'\n",
            " 'Psoriasis' 'Chronic cholestasis' 'AIDS' 'hepatitis A'\n",
            " 'Paralysis (brain hemorrhage)' 'Jaundice' 'Impetigo'\n",
            " 'Paralysis (brain hemorrhage)' 'AIDS' 'Migraine' 'Diabetes' 'Arthritis'\n",
            " 'Pneumonia' '(vertigo) Paroymsal  Positional Vertigo' 'Common Cold'\n",
            " '(vertigo) Paroymsal  Positional Vertigo' 'Allergy' 'Bronchial Asthma'\n",
            " 'Hepatitis D' 'Bronchial Asthma' 'Arthritis'\n",
            " 'Dimorphic hemmorhoids(piles)' 'Tuberculosis' 'Hepatitis D' 'Diabetes'\n",
            " 'Hypertension' 'Dengue' 'AIDS' 'Jaundice' 'Paralysis (brain hemorrhage)'\n",
            " 'hepatitis A' 'Chronic cholestasis' 'Jaundice' 'Hepatitis E'\n",
            " 'Peptic ulcer diseae' 'Hepatitis C' 'Cervical spondylosis'\n",
            " 'Varicose veins' 'Osteoarthristis' 'Hyperthyroidism' 'Diabetes'\n",
            " 'Hepatitis C' 'Common Cold' 'Hypothyroidism' 'Tuberculosis'\n",
            " 'Hyperthyroidism' 'Allergy' 'Malaria' 'Hepatitis D' 'Arthritis' 'Malaria'\n",
            " 'Gastroenteritis' 'Typhoid' 'Tuberculosis' 'Chronic cholestasis'\n",
            " 'Cervical spondylosis' 'Urinary tract infection' 'Common Cold' 'AIDS'\n",
            " 'Dimorphic hemmorhoids(piles)' 'hepatitis A' 'Hyperthyroidism' 'Dengue'\n",
            " 'Migraine' 'Cervical spondylosis' 'AIDS' 'Hypoglycemia' 'Impetigo'\n",
            " 'Fungal infection' 'Chronic cholestasis' 'Psoriasis' 'Typhoid'\n",
            " 'Chicken pox' 'Jaundice' 'Hepatitis D' 'Osteoarthristis' 'Varicose veins'\n",
            " 'Hepatitis D' 'Malaria' 'Bronchial Asthma' 'Arthritis'\n",
            " 'Cervical spondylosis' 'Bronchial Asthma' 'Cervical spondylosis'\n",
            " 'Hepatitis B' 'GERD' 'Dimorphic hemmorhoids(piles)' 'Allergy' 'Psoriasis'\n",
            " 'Common Cold' 'Dimorphic hemmorhoids(piles)' 'Hepatitis E'\n",
            " 'Bronchial Asthma' 'AIDS' 'Hyperthyroidism' 'Tuberculosis' 'Hepatitis C'\n",
            " 'Migraine' 'Migraine' 'Bronchial Asthma' 'Dimorphic hemmorhoids(piles)'\n",
            " 'Alcoholic hepatitis' 'Gastroenteritis' 'Hepatitis D' 'Arthritis'\n",
            " 'Hepatitis C' 'Common Cold' 'Varicose veins' 'Hypertension'\n",
            " '(vertigo) Paroymsal  Positional Vertigo' 'Paralysis (brain hemorrhage)'\n",
            " 'Drug Reaction' 'Heart attack' 'Dimorphic hemmorhoids(piles)'\n",
            " 'Peptic ulcer diseae' 'Dimorphic hemmorhoids(piles)' 'Hypertension'\n",
            " 'Hyperthyroidism' 'Hyperthyroidism' 'Bronchial Asthma'\n",
            " 'Cervical spondylosis' 'Peptic ulcer diseae' 'Gastroenteritis'\n",
            " 'Cervical spondylosis' 'Dimorphic hemmorhoids(piles)' 'Migraine'\n",
            " 'Drug Reaction' 'Psoriasis' 'Varicose veins' 'Hypoglycemia'\n",
            " 'Paralysis (brain hemorrhage)' 'AIDS' 'Hepatitis B' 'Hepatitis B'\n",
            " 'Dimorphic hemmorhoids(piles)' 'Drug Reaction' 'Gastroenteritis'\n",
            " 'Dimorphic hemmorhoids(piles)' 'Alcoholic hepatitis' 'Malaria'\n",
            " 'Hypothyroidism' 'Hepatitis C' 'Hyperthyroidism' 'Typhoid'\n",
            " 'Dimorphic hemmorhoids(piles)' 'Arthritis' 'Migraine' 'Hypoglycemia'\n",
            " 'Gastroenteritis' 'Peptic ulcer diseae' 'Psoriasis' 'Hyperthyroidism'\n",
            " 'Paralysis (brain hemorrhage)' 'Migraine' 'Hyperthyroidism'\n",
            " 'Paralysis (brain hemorrhage)' 'Hepatitis C' 'Tuberculosis'\n",
            " 'Varicose veins' 'Dengue' 'Hypoglycemia' 'Fungal infection'\n",
            " 'Gastroenteritis' 'AIDS' 'Peptic ulcer diseae' 'Fungal infection'\n",
            " 'Chronic cholestasis' 'Varicose veins' 'Dimorphic hemmorhoids(piles)'\n",
            " 'Hepatitis C' 'Pneumonia' 'Cervical spondylosis' 'Peptic ulcer diseae'\n",
            " 'Hypertension' 'Urinary tract infection' 'Psoriasis' 'Hyperthyroidism'\n",
            " 'Hepatitis C' 'Dengue' 'Dimorphic hemmorhoids(piles)' 'Common Cold'\n",
            " 'Common Cold' 'Paralysis (brain hemorrhage)' 'Hypothyroidism' 'Pneumonia'\n",
            " 'Peptic ulcer diseae' 'hepatitis A' 'Hepatitis B' 'Acne'\n",
            " 'Hyperthyroidism' 'Osteoarthristis' 'Varicose veins' 'Allergy'\n",
            " 'Osteoarthristis' 'Alcoholic hepatitis' 'Migraine' 'Peptic ulcer diseae'\n",
            " 'Hypertension' 'Dimorphic hemmorhoids(piles)' 'Jaundice' 'Common Cold'\n",
            " 'Urinary tract infection' 'Acne' 'Paralysis (brain hemorrhage)'\n",
            " 'Hyperthyroidism' 'Chronic cholestasis' 'Pneumonia' 'Allergy'\n",
            " 'Tuberculosis' 'Gastroenteritis' 'Hepatitis E' 'Peptic ulcer diseae'\n",
            " 'Cervical spondylosis' 'Malaria' 'Hypoglycemia' 'Jaundice'\n",
            " '(vertigo) Paroymsal  Positional Vertigo' 'Tuberculosis' 'Varicose veins'\n",
            " 'hepatitis A' 'Bronchial Asthma' 'Psoriasis'\n",
            " 'Dimorphic hemmorhoids(piles)' 'Gastroenteritis' 'Psoriasis'\n",
            " 'Paralysis (brain hemorrhage)' 'Psoriasis' 'Acne' 'Typhoid'\n",
            " 'Varicose veins' 'Heart attack' '(vertigo) Paroymsal  Positional Vertigo'\n",
            " 'Hepatitis C' 'Chicken pox' 'AIDS' 'Hyperthyroidism' 'Chicken pox'\n",
            " 'Common Cold' 'Pneumonia' 'Hypoglycemia' 'Psoriasis' 'Tuberculosis'\n",
            " 'Fungal infection' 'Bronchial Asthma' 'Tuberculosis'\n",
            " 'Peptic ulcer diseae' 'Common Cold' 'Hypertension' 'Hepatitis C'\n",
            " 'Typhoid' 'Bronchial Asthma' 'Psoriasis' 'Alcoholic hepatitis'\n",
            " 'Hepatitis C' 'Hepatitis E' 'Hyperthyroidism' 'Hepatitis D' 'Typhoid'\n",
            " 'Migraine' 'Hepatitis E' 'GERD' 'Paralysis (brain hemorrhage)'\n",
            " 'Hepatitis B' 'Hepatitis B' 'Allergy' 'Cervical spondylosis'\n",
            " 'Cervical spondylosis' 'Common Cold' 'Arthritis' 'Impetigo'\n",
            " 'Bronchial Asthma' 'Psoriasis' 'Acne' 'Hepatitis E' 'Drug Reaction'\n",
            " 'Hyperthyroidism' 'Hypothyroidism' 'Gastroenteritis' 'Arthritis'\n",
            " 'Osteoarthristis' 'Diabetes' 'Malaria' 'Dengue' 'Impetigo' 'GERD'\n",
            " 'Typhoid' 'Dimorphic hemmorhoids(piles)' 'Allergy'\n",
            " 'Dimorphic hemmorhoids(piles)' 'Psoriasis' 'Chronic cholestasis'\n",
            " 'hepatitis A' 'Psoriasis' 'Typhoid' 'Dengue' 'GERD' 'Arthritis'\n",
            " 'Hepatitis D' 'Osteoarthristis' 'Diabetes' 'Chicken pox' 'Typhoid'\n",
            " 'Hepatitis B' 'Hypothyroidism' 'Hepatitis E'\n",
            " '(vertigo) Paroymsal  Positional Vertigo' 'Paralysis (brain hemorrhage)'\n",
            " 'Hepatitis B' 'Hyperthyroidism' 'Diabetes' 'Diabetes' 'AIDS'\n",
            " 'Osteoarthristis' 'GERD' 'Pneumonia' 'Gastroenteritis'\n",
            " 'Urinary tract infection' 'Diabetes' 'Fungal infection' 'Malaria'\n",
            " 'Alcoholic hepatitis' 'Impetigo' 'Paralysis (brain hemorrhage)'\n",
            " 'Alcoholic hepatitis' 'Common Cold' 'Tuberculosis' 'Hypertension'\n",
            " 'Chicken pox' 'Typhoid' 'Osteoarthristis' 'Gastroenteritis'\n",
            " 'Dimorphic hemmorhoids(piles)' 'Impetigo' 'Dimorphic hemmorhoids(piles)'\n",
            " 'Pneumonia' 'Acne' 'Hepatitis B' 'Allergy' 'Bronchial Asthma'\n",
            " 'Tuberculosis' 'Hyperthyroidism' 'Hypertension' 'Gastroenteritis'\n",
            " 'Hypothyroidism' 'Dimorphic hemmorhoids(piles)' 'AIDS'\n",
            " 'Dimorphic hemmorhoids(piles)' 'Psoriasis' 'Impetigo' 'Dengue'\n",
            " 'Hypoglycemia' 'Pneumonia' 'Hepatitis E' 'Alcoholic hepatitis'\n",
            " 'Cervical spondylosis' 'Varicose veins' 'Impetigo' 'Varicose veins'\n",
            " 'GERD' 'hepatitis A' 'Malaria' 'Arthritis' 'Common Cold' 'Hypertension'\n",
            " 'Hypothyroidism' 'Peptic ulcer diseae' 'Hepatitis D' 'Fungal infection'\n",
            " 'Allergy' 'Peptic ulcer diseae' '(vertigo) Paroymsal  Positional Vertigo'\n",
            " 'Fungal infection' 'Migraine' 'Diabetes' 'Diabetes' 'Osteoarthristis'\n",
            " 'Heart attack' 'GERD' 'Dimorphic hemmorhoids(piles)' 'Migraine'\n",
            " 'Tuberculosis' 'Arthritis' 'Drug Reaction' 'Migraine' 'Fungal infection'\n",
            " 'Hypothyroidism' 'Gastroenteritis' 'Osteoarthristis' 'Hepatitis E'\n",
            " 'Pneumonia' 'Allergy' 'AIDS' 'Hyperthyroidism' 'Urinary tract infection'\n",
            " 'Gastroenteritis' 'Arthritis' 'Urinary tract infection' 'Pneumonia'\n",
            " 'Dimorphic hemmorhoids(piles)' 'Fungal infection' 'Malaria'\n",
            " 'Hypertension' 'Impetigo' 'Hepatitis B' 'Bronchial Asthma' 'Common Cold'\n",
            " 'Chicken pox' 'Hepatitis D' 'Allergy' 'Hepatitis E' 'Dengue'\n",
            " 'Hypertension' 'Malaria' 'Heart attack' 'Malaria' 'Hepatitis E'\n",
            " 'Fungal infection' '(vertigo) Paroymsal  Positional Vertigo'\n",
            " '(vertigo) Paroymsal  Positional Vertigo' 'Diabetes' 'AIDS' 'Arthritis'\n",
            " 'Bronchial Asthma' 'Chronic cholestasis' 'Dimorphic hemmorhoids(piles)'\n",
            " 'Typhoid' 'Psoriasis' 'Jaundice' 'Urinary tract infection' 'Common Cold'\n",
            " 'Bronchial Asthma' 'Acne' 'Paralysis (brain hemorrhage)' 'Acne'\n",
            " 'Arthritis' 'Malaria' 'Hypothyroidism'\n",
            " '(vertigo) Paroymsal  Positional Vertigo' 'Paralysis (brain hemorrhage)'\n",
            " 'Psoriasis' 'Tuberculosis' 'Hepatitis D' 'Bronchial Asthma'\n",
            " 'Hypertension' 'Hyperthyroidism' 'Typhoid'\n",
            " '(vertigo) Paroymsal  Positional Vertigo' 'Cervical spondylosis'\n",
            " 'Arthritis' 'Paralysis (brain hemorrhage)' 'Malaria' 'Heart attack'\n",
            " 'Dengue' 'Typhoid' 'Common Cold' 'Varicose veins' 'Hypertension'\n",
            " 'Chronic cholestasis' 'Hyperthyroidism' 'Chronic cholestasis'\n",
            " 'Drug Reaction' 'AIDS' 'Gastroenteritis' 'Jaundice'\n",
            " '(vertigo) Paroymsal  Positional Vertigo' 'AIDS' 'Diabetes' 'Impetigo'\n",
            " 'Tuberculosis' 'Dengue' 'Gastroenteritis' 'Malaria' 'Gastroenteritis'\n",
            " 'Osteoarthristis' 'Common Cold' 'Chronic cholestasis' 'Gastroenteritis'\n",
            " 'Tuberculosis' 'Hypoglycemia' 'Fungal infection' 'Common Cold'\n",
            " 'Hypothyroidism' 'Common Cold' 'Dimorphic hemmorhoids(piles)' 'Diabetes'\n",
            " 'hepatitis A' 'Arthritis' 'Varicose veins' 'Chronic cholestasis'\n",
            " 'Arthritis' 'Acne' 'Allergy' 'Migraine' 'AIDS'\n",
            " 'Dimorphic hemmorhoids(piles)' 'Osteoarthristis' 'Hypothyroidism'\n",
            " 'Arthritis' 'Psoriasis' 'Acne' 'Fungal infection' 'Common Cold'\n",
            " 'Hepatitis D' 'Hepatitis E' 'Hepatitis D' 'GERD' 'Migraine' 'Dengue'\n",
            " 'Chicken pox' 'GERD' 'Tuberculosis' 'Varicose veins' 'Hepatitis E'\n",
            " 'Hepatitis C' 'Bronchial Asthma' 'Fungal infection' 'Dengue'\n",
            " 'Paralysis (brain hemorrhage)' 'Hypoglycemia' 'Hepatitis C' 'Hepatitis B'\n",
            " 'Osteoarthristis' 'Hepatitis B' 'Urinary tract infection' 'Hepatitis E'\n",
            " 'Migraine' 'AIDS' 'Common Cold' 'hepatitis A'\n",
            " '(vertigo) Paroymsal  Positional Vertigo' 'Cervical spondylosis'\n",
            " 'Hypothyroidism' 'Peptic ulcer diseae' 'Typhoid' 'Pneumonia'\n",
            " 'Hepatitis E' 'Urinary tract infection' 'Varicose veins' 'Dengue'\n",
            " 'Migraine' 'AIDS' 'Malaria' 'Hepatitis E' 'Impetigo' 'Bronchial Asthma'\n",
            " 'Jaundice' 'Varicose veins' 'Fungal infection' 'Fungal infection'\n",
            " 'Fungal infection' 'Diabetes' 'Paralysis (brain hemorrhage)'\n",
            " 'Peptic ulcer diseae' 'Arthritis' 'hepatitis A' 'Common Cold' 'Acne'\n",
            " 'Malaria' 'Peptic ulcer diseae' 'Chronic cholestasis' 'Migraine'\n",
            " 'Heart attack' 'Hyperthyroidism' 'Gastroenteritis' 'Diabetes' 'Dengue'\n",
            " 'hepatitis A' 'Acne' 'Psoriasis' 'Acne' 'Hypothyroidism' 'Hypertension'\n",
            " 'Acne' 'Hyperthyroidism' 'hepatitis A'\n",
            " '(vertigo) Paroymsal  Positional Vertigo' 'Hypoglycemia' 'Acne'\n",
            " 'Bronchial Asthma' 'Acne' 'Dimorphic hemmorhoids(piles)'\n",
            " 'Chronic cholestasis' 'Drug Reaction' 'Common Cold' 'Hepatitis E'\n",
            " 'Chicken pox' 'Osteoarthristis' 'AIDS' 'Alcoholic hepatitis'\n",
            " 'Peptic ulcer diseae' 'Hypothyroidism' 'Hypertension' 'Diabetes' 'AIDS'\n",
            " 'Urinary tract infection' 'Pneumonia' 'Diabetes' 'Pneumonia' 'Arthritis'\n",
            " 'Hepatitis D' 'Migraine' 'Pneumonia' 'Dimorphic hemmorhoids(piles)'\n",
            " 'GERD' 'Dimorphic hemmorhoids(piles)' 'Alcoholic hepatitis' 'AIDS'\n",
            " 'Jaundice' 'Arthritis' 'Impetigo' 'Chicken pox' 'Diabetes' 'Heart attack'\n",
            " 'Typhoid' 'Hepatitis D' 'Peptic ulcer diseae' 'Jaundice' 'GERD'\n",
            " 'Hepatitis E' 'Malaria' 'Impetigo' 'GERD' 'Paralysis (brain hemorrhage)'\n",
            " 'Impetigo' 'Tuberculosis' 'Gastroenteritis' 'Dengue'\n",
            " 'Alcoholic hepatitis' 'Drug Reaction']\n"
          ]
        }
      ]
    },
    {
      "cell_type": "code",
      "metadata": {
        "colab": {
          "base_uri": "https://localhost:8080/",
          "height": 482
        },
        "id": "w_xkyV8x57PR",
        "outputId": "503f5288-8532-40c2-dfbb-b046d8b4320c"
      },
      "source": [
        "conf_mat = confusion_matrix(y_test, preds)\n",
        "df_cm = pd.DataFrame(conf_mat, index=df['Disease'].unique(), columns=df['Disease'].unique())\n",
        "print('F1-score% =', f1_score(y_test, preds, average='macro')*100, '|', 'Accuracy% =', accuracy_score(y_test, preds)*100)\n",
        "sns.heatmap(df_cm)"
      ],
      "execution_count": 8,
      "outputs": [
        {
          "output_type": "stream",
          "name": "stdout",
          "text": [
            "F1-score% = 93.61305628901314 | Accuracy% = 93.76693766937669\n"
          ]
        },
        {
          "output_type": "execute_result",
          "data": {
            "text/plain": [
              "<matplotlib.axes._subplots.AxesSubplot at 0x7f3289ba9950>"
            ]
          },
          "metadata": {},
          "execution_count": 8
        },
        {
          "output_type": "display_data",
          "data": {
            "image/png": "[encoded data removed]",
            "text/plain": [
              "<Figure size 432x288 with 2 Axes>"
            ]
          },
          "metadata": {
            "needs_background": "light"
          }
        }
      ]
    },
    {
      "cell_type": "markdown",
      "metadata": {
        "id": "MpiKLXgm6Cqm"
      },
      "source": [
        "Functions used for prediction of user inputs and sending data to cloud"
      ]
    },
    {
      "cell_type": "code",
      "metadata": {
        "id": "97K8ztSa5_fv"
      },
      "source": [
        "def message():\n",
        "    if (Symptom1.get() == \"None\" and  Symptom2.get() == \"None\" and Symptom3.get() == \"None\" and Symptom4.get() == \"None\" and Symptom5.get() == \"None\"):\n",
        "        messagebox.showinfo(\"OPPS!!\", \"ENTER  SYMPTOMS PLEASE\")\n",
        "    else :\n",
        "        SVM()\n",
        "\n",
        "def SVM():\n",
        "    psymptoms = [Symptom1.get(),Symptom2.get(),Symptom3.get(),Symptom4.get(),Symptom5.get()]\n",
        "    loc = location.get()\n",
        "    a = np.array(df1[\"Symptom\"])\n",
        "    b = np.array(df1[\"weight\"])\n",
        "    for j in range(len(psymptoms)):\n",
        "        for k in range(len(a)):\n",
        "            if psymptoms[j]==a[k]:\n",
        "                psymptoms[j]=b[k]\n",
        "\n",
        "    nulls = [0,0,0,0,0,0,0,0,0,0,0,0]\n",
        "    psy = [psymptoms + nulls]\n",
        "\n",
        "    pred2 = model.predict(psy)\n",
        "    t3.delete(\"1.0\", END)\n",
        "    t3.insert(END, pred2[0])\n",
        "\n",
        "    if(pred2[0]==\"GERD\"):\n",
        "        z=urllib.request.urlopen('https://api.thingspeak.com/update?api_key=MP77HD9B13Z7N6BO&field1=1&field2=0&field3='+str(loc))\n",
        "        z.read()\n",
        "    if(pred2[0]==\"Hepatitis C\"):\n",
        "        r=urllib.request.urlopen('https://api.thingspeak.com/update?api_key=MP77HD9B13Z7N6BO&field1=0&field2=1&field3='+str(loc))\n",
        "        r.read()"
      ],
      "execution_count": 9,
      "outputs": []
    },
    {
      "cell_type": "code",
      "metadata": {
        "id": "65EtVMbq7H3k"
      },
      "source": [
        ""
      ],
      "execution_count": null,
      "outputs": []
    },
    {
      "cell_type": "markdown",
      "metadata": {
        "id": "1oFjywUg7LwA"
      },
      "source": [
        "Thingspeak is being used as the cloud. For simplicity, only when the diseases GERD or Hepatitis C are detected, the data is sent to cloud. The datas sent to cloud are the predicted disease and the location of the user.\n",
        "\n",
        "Every time GERD is predicted, 1 is sent to GERD field and 0 to Hepatitis field and vice versa if Hepatitis is detected. 1 and 0 has been choosen for ease in aggrevation while analytics."
      ]
    },
    {
      "cell_type": "markdown",
      "metadata": {
        "id": "9T5mSE1n7O5H"
      },
      "source": [
        "Designing of GUI"
      ]
    },
    {
      "cell_type": "code",
      "metadata": {
        "colab": {
          "base_uri": "https://localhost:8080/",
          "height": 346
        },
        "id": "yWyEJ44s7MPS",
        "outputId": "b6dae0a7-6dba-4a6f-9ab4-b0eac65d0475"
      },
      "source": [
        "root = Tk()\n",
        "root.title(\" Disease Prediction From Symptoms\")\n",
        "root.configure()\n",
        "\n",
        "Symptom1 = StringVar()\n",
        "Symptom1.set(None)\n",
        "Symptom2 = StringVar()\n",
        "Symptom2.set(None)\n",
        "Symptom3 = StringVar()\n",
        "Symptom3.set(None)\n",
        "Symptom4 = StringVar()\n",
        "Symptom4.set(None)\n",
        "Symptom5 = StringVar()\n",
        "Symptom5.set(None)\n",
        "location = StringVar()\n",
        "location.set(None)\n",
        "\n",
        "w2 = Label(root, justify=CENTER, text=\" Disease Prediction From Symptoms \")\n",
        "w2.config(font=(\"Helvetica\", 30))\n",
        "w2.grid(row=1, column=0, columnspan=2, padx=100)\n",
        "\n",
        "NameLb1 = Label(root, text=\"\")\n",
        "NameLb1.config(font=(\"Helvetica\", 20))\n",
        "NameLb1.grid(row=5, column=1, pady=10,  sticky=W)\n",
        "\n",
        "S1Lb = Label(root,  text=\"Symptom 1\")\n",
        "S1Lb.config(font=(\"Helvetica\", 15))\n",
        "S1Lb.grid(row=7, column=1, pady=10 , sticky=W)\n",
        "\n",
        "S2Lb = Label(root,  text=\"Symptom 2\")\n",
        "S2Lb.config(font=(\"Helvetica\", 15))\n",
        "S2Lb.grid(row=8, column=1, pady=10, sticky=W)\n",
        "\n",
        "S3Lb = Label(root,  text=\"Symptom 3\")\n",
        "S3Lb.config(font=(\"Helvetica\", 15))\n",
        "S3Lb.grid(row=9, column=1, pady=10, sticky=W)\n",
        "\n",
        "S4Lb = Label(root,  text=\"Symptom 4\")\n",
        "S4Lb.config(font=(\"Helvetica\", 15))\n",
        "S4Lb.grid(row=10, column=1, pady=10, sticky=W)\n",
        "\n",
        "S5Lb = Label(root,  text=\"Symptom 5\")\n",
        "S5Lb.config(font=(\"Helvetica\", 15))\n",
        "S5Lb.grid(row=11, column=1, pady=10, sticky=W)\n",
        "\n",
        "locLb = Label(root,  text=\"Location\")\n",
        "locLb.config(font=(\"Helvetica\", 15))\n",
        "locLb.grid(row=12, column=1, pady=10, sticky=W)\n",
        "\n",
        "lr = Button(root, text=\"Predict\",height=2, width=20, command=message)\n",
        "lr.config(font=(\"Helvetica\", 15))\n",
        "lr.grid(row=15, column=1,pady=10)\n",
        "\n",
        "#OPTIONS = sorted(symptoms)\n",
        "OPTIONS = [\"fatigue\", \"yellowish_skin\", \"loss_of_appetite\", \"yellowing_of_eyes\", 'family_history',\"stomach_pain\", \"ulcers_on_tongue\", \"vomiting\", \"cough\", \"chest_pain\"]\n",
        "LOCATIONS = [\"New Delhi\", \"Mumbai\", \"Chennai\", \"Kolkata\", \"Bengaluru\"]\n",
        "\n",
        "S1En = OptionMenu(root, Symptom1,*OPTIONS)\n",
        "S1En.grid(row=7, column=1)\n",
        "\n",
        "S2En = OptionMenu(root, Symptom2,*OPTIONS)\n",
        "S2En.grid(row=8, column=1)\n",
        "\n",
        "S3En = OptionMenu(root, Symptom3,*OPTIONS)\n",
        "S3En.grid(row=9, column=1)\n",
        "\n",
        "S4En = OptionMenu(root, Symptom4,*OPTIONS)\n",
        "S4En.grid(row=10, column=1)\n",
        "\n",
        "S5En = OptionMenu(root, Symptom5,*OPTIONS)\n",
        "S5En.grid(row=11, column=1)\n",
        "\n",
        "LocEn = OptionMenu(root, location,*LOCATIONS)\n",
        "LocEn.grid(row=12, column=1)\n",
        "\n",
        "NameLb = Label(root, text=\"\")\n",
        "NameLb.config(font=(\"Helvetica\", 20))\n",
        "NameLb.grid(row=13, column=1, pady=10,  sticky=W)\n",
        "\n",
        "NameLb = Label(root, text=\"\")\n",
        "NameLb.config(font=(\"Helvetica\", 15))\n",
        "NameLb.grid(row=18, column=1, pady=10,  sticky=W)\n",
        "\n",
        "t3 = Text(root, height=2, width=20)\n",
        "t3.config(font=(\"Helvetica\", 20))\n",
        "t3.grid(row=19, column=1 , padx=10)\n",
        "\n",
        "root.mainloop()"
      ],
      "execution_count": 15,
      "outputs": [
        {
          "output_type": "error",
          "ename": "TclError",
          "evalue": "ignored",
          "traceback": [
            "\u001b[0;31m---------------------------------------------------------------------------\u001b[0m",
            "\u001b[0;31mTclError\u001b[0m                                  Traceback (most recent call last)",
            "\u001b[0;32m<ipython-input-15-77304400e2de>\u001b[0m in \u001b[0;36m<module>\u001b[0;34m()\u001b[0m\n\u001b[0;32m----> 1\u001b[0;31m \u001b[0mroot\u001b[0m \u001b[0;34m=\u001b[0m \u001b[0mTk\u001b[0m\u001b[0;34m(\u001b[0m\u001b[0;34m)\u001b[0m\u001b[0;34m\u001b[0m\u001b[0;34m\u001b[0m\u001b[0m\n\u001b[0m\u001b[1;32m      2\u001b[0m \u001b[0mroot\u001b[0m\u001b[0;34m.\u001b[0m\u001b[0mtitle\u001b[0m\u001b[0;34m(\u001b[0m\u001b[0;34m\" Disease Prediction From Symptoms\"\u001b[0m\u001b[0;34m)\u001b[0m\u001b[0;34m\u001b[0m\u001b[0;34m\u001b[0m\u001b[0m\n\u001b[1;32m      3\u001b[0m \u001b[0mroot\u001b[0m\u001b[0;34m.\u001b[0m\u001b[0mconfigure\u001b[0m\u001b[0;34m(\u001b[0m\u001b[0;34m)\u001b[0m\u001b[0;34m\u001b[0m\u001b[0;34m\u001b[0m\u001b[0m\n\u001b[1;32m      4\u001b[0m \u001b[0;34m\u001b[0m\u001b[0m\n\u001b[1;32m      5\u001b[0m \u001b[0mSymptom1\u001b[0m \u001b[0;34m=\u001b[0m \u001b[0mStringVar\u001b[0m\u001b[0;34m(\u001b[0m\u001b[0;34m)\u001b[0m\u001b[0;34m\u001b[0m\u001b[0;34m\u001b[0m\u001b[0m\n",
            "\u001b[0;32m/usr/lib/python3.7/tkinter/__init__.py\u001b[0m in \u001b[0;36m__init__\u001b[0;34m(self, screenName, baseName, className, useTk, sync, use)\u001b[0m\n\u001b[1;32m   2021\u001b[0m                 \u001b[0mbaseName\u001b[0m \u001b[0;34m=\u001b[0m \u001b[0mbaseName\u001b[0m \u001b[0;34m+\u001b[0m \u001b[0mext\u001b[0m\u001b[0;34m\u001b[0m\u001b[0;34m\u001b[0m\u001b[0m\n\u001b[1;32m   2022\u001b[0m         \u001b[0minteractive\u001b[0m \u001b[0;34m=\u001b[0m \u001b[0;36m0\u001b[0m\u001b[0;34m\u001b[0m\u001b[0;34m\u001b[0m\u001b[0m\n\u001b[0;32m-> 2023\u001b[0;31m         \u001b[0mself\u001b[0m\u001b[0;34m.\u001b[0m\u001b[0mtk\u001b[0m \u001b[0;34m=\u001b[0m \u001b[0m_tkinter\u001b[0m\u001b[0;34m.\u001b[0m\u001b[0mcreate\u001b[0m\u001b[0;34m(\u001b[0m\u001b[0mscreenName\u001b[0m\u001b[0;34m,\u001b[0m \u001b[0mbaseName\u001b[0m\u001b[0;34m,\u001b[0m \u001b[0mclassName\u001b[0m\u001b[0;34m,\u001b[0m \u001b[0minteractive\u001b[0m\u001b[0;34m,\u001b[0m \u001b[0mwantobjects\u001b[0m\u001b[0;34m,\u001b[0m \u001b[0museTk\u001b[0m\u001b[0;34m,\u001b[0m \u001b[0msync\u001b[0m\u001b[0;34m,\u001b[0m \u001b[0muse\u001b[0m\u001b[0;34m)\u001b[0m\u001b[0;34m\u001b[0m\u001b[0;34m\u001b[0m\u001b[0m\n\u001b[0m\u001b[1;32m   2024\u001b[0m         \u001b[0;32mif\u001b[0m \u001b[0museTk\u001b[0m\u001b[0;34m:\u001b[0m\u001b[0;34m\u001b[0m\u001b[0;34m\u001b[0m\u001b[0m\n\u001b[1;32m   2025\u001b[0m             \u001b[0mself\u001b[0m\u001b[0;34m.\u001b[0m\u001b[0m_loadtk\u001b[0m\u001b[0;34m(\u001b[0m\u001b[0;34m)\u001b[0m\u001b[0;34m\u001b[0m\u001b[0;34m\u001b[0m\u001b[0m\n",
            "\u001b[0;31mTclError\u001b[0m: no display name and no $DISPLAY environment variable"
          ]
        }
      ]
    },
    {
      "cell_type": "code",
      "metadata": {
        "colab": {
          "base_uri": "https://localhost:8080/",
          "height": 279
        },
        "id": "lLX6MmMz7W6X",
        "outputId": "9b4d5b4f-bdf4-4fab-a1c9-431df99791a5"
      },
      "source": [
        "root=Tk()"
      ],
      "execution_count": 17,
      "outputs": [
        {
          "output_type": "error",
          "ename": "TclError",
          "evalue": "ignored",
          "traceback": [
            "\u001b[0;31m---------------------------------------------------------------------------\u001b[0m",
            "\u001b[0;31mTclError\u001b[0m                                  Traceback (most recent call last)",
            "\u001b[0;32m<ipython-input-17-e06a6e462d09>\u001b[0m in \u001b[0;36m<module>\u001b[0;34m()\u001b[0m\n\u001b[0;32m----> 1\u001b[0;31m \u001b[0mroot\u001b[0m\u001b[0;34m=\u001b[0m\u001b[0mTk\u001b[0m\u001b[0;34m(\u001b[0m\u001b[0;34m)\u001b[0m\u001b[0;34m\u001b[0m\u001b[0;34m\u001b[0m\u001b[0m\n\u001b[0m",
            "\u001b[0;32m/usr/lib/python3.7/tkinter/__init__.py\u001b[0m in \u001b[0;36m__init__\u001b[0;34m(self, screenName, baseName, className, useTk, sync, use)\u001b[0m\n\u001b[1;32m   2021\u001b[0m                 \u001b[0mbaseName\u001b[0m \u001b[0;34m=\u001b[0m \u001b[0mbaseName\u001b[0m \u001b[0;34m+\u001b[0m \u001b[0mext\u001b[0m\u001b[0;34m\u001b[0m\u001b[0;34m\u001b[0m\u001b[0m\n\u001b[1;32m   2022\u001b[0m         \u001b[0minteractive\u001b[0m \u001b[0;34m=\u001b[0m \u001b[0;36m0\u001b[0m\u001b[0;34m\u001b[0m\u001b[0;34m\u001b[0m\u001b[0m\n\u001b[0;32m-> 2023\u001b[0;31m         \u001b[0mself\u001b[0m\u001b[0;34m.\u001b[0m\u001b[0mtk\u001b[0m \u001b[0;34m=\u001b[0m \u001b[0m_tkinter\u001b[0m\u001b[0;34m.\u001b[0m\u001b[0mcreate\u001b[0m\u001b[0;34m(\u001b[0m\u001b[0mscreenName\u001b[0m\u001b[0;34m,\u001b[0m \u001b[0mbaseName\u001b[0m\u001b[0;34m,\u001b[0m \u001b[0mclassName\u001b[0m\u001b[0;34m,\u001b[0m \u001b[0minteractive\u001b[0m\u001b[0;34m,\u001b[0m \u001b[0mwantobjects\u001b[0m\u001b[0;34m,\u001b[0m \u001b[0museTk\u001b[0m\u001b[0;34m,\u001b[0m \u001b[0msync\u001b[0m\u001b[0;34m,\u001b[0m \u001b[0muse\u001b[0m\u001b[0;34m)\u001b[0m\u001b[0;34m\u001b[0m\u001b[0;34m\u001b[0m\u001b[0m\n\u001b[0m\u001b[1;32m   2024\u001b[0m         \u001b[0;32mif\u001b[0m \u001b[0museTk\u001b[0m\u001b[0;34m:\u001b[0m\u001b[0;34m\u001b[0m\u001b[0;34m\u001b[0m\u001b[0m\n\u001b[1;32m   2025\u001b[0m             \u001b[0mself\u001b[0m\u001b[0;34m.\u001b[0m\u001b[0m_loadtk\u001b[0m\u001b[0;34m(\u001b[0m\u001b[0;34m)\u001b[0m\u001b[0;34m\u001b[0m\u001b[0;34m\u001b[0m\u001b[0m\n",
            "\u001b[0;31mTclError\u001b[0m: no display name and no $DISPLAY environment variable"
          ]
        }
      ]
    },
    {
      "cell_type": "code",
      "metadata": {
        "id": "sdIN2OSy7-xu"
      },
      "source": [
        ""
      ],
      "execution_count": null,
      "outputs": []
    }
  ]
}